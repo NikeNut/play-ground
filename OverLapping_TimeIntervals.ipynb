{
 "cells": [
  {
   "cell_type": "code",
   "execution_count": 1,
   "metadata": {},
   "outputs": [],
   "source": [
    "from datetime import datetime\n",
    "import polars as pl\n",
    "import numpy as np # strictly for random number generation"
   ]
  },
  {
   "attachments": {},
   "cell_type": "markdown",
   "metadata": {},
   "source": [
    "## Sample DataFrame Creation\n",
    "\n",
    "We will first generate a data set with two timestamps, `start` and `end`, representing a time interval."
   ]
  },
  {
   "cell_type": "code",
   "execution_count": 2,
   "metadata": {},
   "outputs": [
    {
     "data": {
      "text/html": [
       "<div><style>\n",
       ".dataframe > thead > tr > th,\n",
       ".dataframe > tbody > tr > td {\n",
       "  text-align: right;\n",
       "}\n",
       "</style>\n",
       "<small>shape: (5, 4)</small><table border=\"1\" class=\"dataframe\"><thead><tr><th>start</th><th>delta_start_end</th><th>FileSize_Bytes</th><th>end</th></tr><tr><td>datetime[μs]</td><td>i64</td><td>i64</td><td>datetime[μs]</td></tr></thead><tbody><tr><td>2021-12-16 00:00:02</td><td>2</td><td>82316359</td><td>2021-12-16 00:00:04</td></tr><tr><td>2021-12-16 00:00:03</td><td>82</td><td>41543953</td><td>2021-12-16 00:01:25</td></tr><tr><td>2021-12-16 00:00:04</td><td>27</td><td>37736275</td><td>2021-12-16 00:00:31</td></tr><tr><td>2021-12-16 00:00:05</td><td>37</td><td>94180945</td><td>2021-12-16 00:00:42</td></tr><tr><td>2021-12-16 00:00:06</td><td>31</td><td>93165930</td><td>2021-12-16 00:00:37</td></tr></tbody></table></div>"
      ],
      "text/plain": [
       "shape: (5, 4)\n",
       "┌─────────────────────┬─────────────────┬────────────────┬─────────────────────┐\n",
       "│ start               ┆ delta_start_end ┆ FileSize_Bytes ┆ end                 │\n",
       "│ ---                 ┆ ---             ┆ ---            ┆ ---                 │\n",
       "│ datetime[μs]        ┆ i64             ┆ i64            ┆ datetime[μs]        │\n",
       "╞═════════════════════╪═════════════════╪════════════════╪═════════════════════╡\n",
       "│ 2021-12-16 00:00:02 ┆ 2               ┆ 82316359       ┆ 2021-12-16 00:00:04 │\n",
       "│ 2021-12-16 00:00:03 ┆ 82              ┆ 41543953       ┆ 2021-12-16 00:01:25 │\n",
       "│ 2021-12-16 00:00:04 ┆ 27              ┆ 37736275       ┆ 2021-12-16 00:00:31 │\n",
       "│ 2021-12-16 00:00:05 ┆ 37              ┆ 94180945       ┆ 2021-12-16 00:00:42 │\n",
       "│ 2021-12-16 00:00:06 ┆ 31              ┆ 93165930       ┆ 2021-12-16 00:00:37 │\n",
       "└─────────────────────┴─────────────────┴────────────────┴─────────────────────┘"
      ]
     },
     "execution_count": 2,
     "metadata": {},
     "output_type": "execute_result"
    }
   ],
   "source": [
    "df = pl.DataFrame(\n",
    "    {\n",
    "        \"start\": pl.date_range(\n",
    "            start = datetime(2021, 12, 16, 0, 0, 2),\n",
    "            end = datetime(2021, 12, 16, 23),\n",
    "            interval = \"1s\",\n",
    "            eager = True\n",
    "        )\n",
    "    }\n",
    ")\n",
    "\n",
    "df = (\n",
    "    df.lazy()\n",
    "    .with_columns([\n",
    "        pl.lit(np.random.rand(df.height) * 100).round().cast(pl.Int64).alias(\"delta_start_end\"),\n",
    "        pl.lit(np.random.rand(df.height) * 1e8).round().cast(pl.Int64).alias(\"FileSize_Bytes\")\n",
    "    ])\n",
    "    .with_columns([\n",
    "        (pl.col(\"start\") + pl.duration(seconds=\"delta_start_end\")).alias(\"end\")\n",
    "    ])\n",
    "    .collect()\n",
    ")\n",
    "\n",
    "df.head()"
   ]
  },
  {
   "attachments": {},
   "cell_type": "markdown",
   "metadata": {},
   "source": [
    "## Calculate Duration and Average Mbps\n",
    "\n",
    "Yes, I know we do not need to calculate duration because we generated random values for duration already, but this is for demonstrative purposes."
   ]
  },
  {
   "cell_type": "code",
   "execution_count": 3,
   "metadata": {},
   "outputs": [
    {
     "data": {
      "text/html": [
       "<div><style>\n",
       ".dataframe > thead > tr > th,\n",
       ".dataframe > tbody > tr > td {\n",
       "  text-align: right;\n",
       "}\n",
       "</style>\n",
       "<small>shape: (5, 6)</small><table border=\"1\" class=\"dataframe\"><thead><tr><th>start</th><th>delta_start_end</th><th>FileSize_Bytes</th><th>end</th><th>duration_seconds</th><th>Mbps_avg</th></tr><tr><td>datetime[μs]</td><td>i64</td><td>i64</td><td>datetime[μs]</td><td>i64</td><td>f64</td></tr></thead><tbody><tr><td>2021-12-16 00:00:02</td><td>2</td><td>82316359</td><td>2021-12-16 00:00:04</td><td>2</td><td>329.265436</td></tr><tr><td>2021-12-16 00:00:03</td><td>82</td><td>41543953</td><td>2021-12-16 00:01:25</td><td>82</td><td>4.053069</td></tr><tr><td>2021-12-16 00:00:04</td><td>27</td><td>37736275</td><td>2021-12-16 00:00:31</td><td>27</td><td>11.181119</td></tr><tr><td>2021-12-16 00:00:05</td><td>37</td><td>94180945</td><td>2021-12-16 00:00:42</td><td>37</td><td>20.363448</td></tr><tr><td>2021-12-16 00:00:06</td><td>31</td><td>93165930</td><td>2021-12-16 00:00:37</td><td>31</td><td>24.042821</td></tr></tbody></table></div>"
      ],
      "text/plain": [
       "shape: (5, 6)\n",
       "┌─────────────────┬────────────────┬────────────────┬────────────────┬────────────────┬────────────┐\n",
       "│ start           ┆ delta_start_en ┆ FileSize_Bytes ┆ end            ┆ duration_secon ┆ Mbps_avg   │\n",
       "│ ---             ┆ d              ┆ ---            ┆ ---            ┆ ds             ┆ ---        │\n",
       "│ datetime[μs]    ┆ ---            ┆ i64            ┆ datetime[μs]   ┆ ---            ┆ f64        │\n",
       "│                 ┆ i64            ┆                ┆                ┆ i64            ┆            │\n",
       "╞═════════════════╪════════════════╪════════════════╪════════════════╪════════════════╪════════════╡\n",
       "│ 2021-12-16      ┆ 2              ┆ 82316359       ┆ 2021-12-16     ┆ 2              ┆ 329.265436 │\n",
       "│ 00:00:02        ┆                ┆                ┆ 00:00:04       ┆                ┆            │\n",
       "│ 2021-12-16      ┆ 82             ┆ 41543953       ┆ 2021-12-16     ┆ 82             ┆ 4.053069   │\n",
       "│ 00:00:03        ┆                ┆                ┆ 00:01:25       ┆                ┆            │\n",
       "│ 2021-12-16      ┆ 27             ┆ 37736275       ┆ 2021-12-16     ┆ 27             ┆ 11.181119  │\n",
       "│ 00:00:04        ┆                ┆                ┆ 00:00:31       ┆                ┆            │\n",
       "│ 2021-12-16      ┆ 37             ┆ 94180945       ┆ 2021-12-16     ┆ 37             ┆ 20.363448  │\n",
       "│ 00:00:05        ┆                ┆                ┆ 00:00:42       ┆                ┆            │\n",
       "│ 2021-12-16      ┆ 31             ┆ 93165930       ┆ 2021-12-16     ┆ 31             ┆ 24.042821  │\n",
       "│ 00:00:06        ┆                ┆                ┆ 00:00:37       ┆                ┆            │\n",
       "└─────────────────┴────────────────┴────────────────┴────────────────┴────────────────┴────────────┘"
      ]
     },
     "execution_count": 3,
     "metadata": {},
     "output_type": "execute_result"
    }
   ],
   "source": [
    "df = (\n",
    "    df.lazy()\n",
    "    .with_columns([\n",
    "        (\n",
    "            (pl.col(\"end\") - pl.col(\"start\")).dt.seconds()\n",
    "        ).alias(\"duration_seconds\")\n",
    "    ])\n",
    "    .with_columns([\n",
    "        (\n",
    "            pl.when(pl.col(\"duration_seconds\") == pl.lit(0))\n",
    "            .then(pl.lit(0))\n",
    "            .otherwise(\n",
    "                (\n",
    "                    (\n",
    "                        pl.col(\"FileSize_Bytes\") * 8 # Convert to Bits\n",
    "                    ) / 1e6 # Convert to Megabits (Mb)\n",
    "                ) / pl.col(\"duration_seconds\")\n",
    "            )\n",
    "        ).alias(\"Mbps_avg\")\n",
    "    ])\n",
    "    .collect()\n",
    ")\n",
    "\n",
    "df.head()"
   ]
  },
  {
   "attachments": {},
   "cell_type": "markdown",
   "metadata": {},
   "source": [
    "## Calculating Overlapping Time Intervals\n",
    "\n",
    "### Generate values between each time interval\n",
    "\n",
    "First we want to identify second \"bins\" each time interval belongs to."
   ]
  },
  {
   "cell_type": "code",
   "execution_count": 4,
   "metadata": {},
   "outputs": [
    {
     "data": {
      "text/html": [
       "<div><style>\n",
       ".dataframe > thead > tr > th,\n",
       ".dataframe > tbody > tr > td {\n",
       "  text-align: right;\n",
       "}\n",
       "</style>\n",
       "<small>shape: (5, 8)</small><table border=\"1\" class=\"dataframe\"><thead><tr><th>row_nr</th><th>start</th><th>delta_start_end</th><th>FileSize_Bytes</th><th>end</th><th>duration_seconds</th><th>Mbps_avg</th><th>duration_dt</th></tr><tr><td>u32</td><td>datetime[μs]</td><td>i64</td><td>i64</td><td>datetime[μs]</td><td>i64</td><td>f64</td><td>list[datetime[μs]]</td></tr></thead><tbody><tr><td>0</td><td>2021-12-16 00:00:02</td><td>2</td><td>82316359</td><td>2021-12-16 00:00:04</td><td>2</td><td>329.265436</td><td>[2021-12-16 00:00:02, 2021-12-16 00:00:03, 2021-12-16 00:00:04]</td></tr><tr><td>1</td><td>2021-12-16 00:00:03</td><td>82</td><td>41543953</td><td>2021-12-16 00:01:25</td><td>82</td><td>4.053069</td><td>[2021-12-16 00:00:03, 2021-12-16 00:00:04, … 2021-12-16 00:01:25]</td></tr><tr><td>2</td><td>2021-12-16 00:00:04</td><td>27</td><td>37736275</td><td>2021-12-16 00:00:31</td><td>27</td><td>11.181119</td><td>[2021-12-16 00:00:04, 2021-12-16 00:00:05, … 2021-12-16 00:00:31]</td></tr><tr><td>3</td><td>2021-12-16 00:00:05</td><td>37</td><td>94180945</td><td>2021-12-16 00:00:42</td><td>37</td><td>20.363448</td><td>[2021-12-16 00:00:05, 2021-12-16 00:00:06, … 2021-12-16 00:00:42]</td></tr><tr><td>4</td><td>2021-12-16 00:00:06</td><td>31</td><td>93165930</td><td>2021-12-16 00:00:37</td><td>31</td><td>24.042821</td><td>[2021-12-16 00:00:06, 2021-12-16 00:00:07, … 2021-12-16 00:00:37]</td></tr></tbody></table></div>"
      ],
      "text/plain": [
       "shape: (5, 8)\n",
       "┌────────┬────────────┬────────────┬────────────┬────────────┬────────────┬────────────┬───────────┐\n",
       "│ row_nr ┆ start      ┆ delta_star ┆ FileSize_B ┆ end        ┆ duration_s ┆ Mbps_avg   ┆ duration_ │\n",
       "│ ---    ┆ ---        ┆ t_end      ┆ ytes       ┆ ---        ┆ econds     ┆ ---        ┆ dt        │\n",
       "│ u32    ┆ datetime[μ ┆ ---        ┆ ---        ┆ datetime[μ ┆ ---        ┆ f64        ┆ ---       │\n",
       "│        ┆ s]         ┆ i64        ┆ i64        ┆ s]         ┆ i64        ┆            ┆ list[date │\n",
       "│        ┆            ┆            ┆            ┆            ┆            ┆            ┆ time[μs]] │\n",
       "╞════════╪════════════╪════════════╪════════════╪════════════╪════════════╪════════════╪═══════════╡\n",
       "│ 0      ┆ 2021-12-16 ┆ 2          ┆ 82316359   ┆ 2021-12-16 ┆ 2          ┆ 329.265436 ┆ [2021-12- │\n",
       "│        ┆ 00:00:02   ┆            ┆            ┆ 00:00:04   ┆            ┆            ┆ 16        │\n",
       "│        ┆            ┆            ┆            ┆            ┆            ┆            ┆ 00:00:02, │\n",
       "│        ┆            ┆            ┆            ┆            ┆            ┆            ┆ 2021-12-1 │\n",
       "│        ┆            ┆            ┆            ┆            ┆            ┆            ┆ 6…        │\n",
       "│ 1      ┆ 2021-12-16 ┆ 82         ┆ 41543953   ┆ 2021-12-16 ┆ 82         ┆ 4.053069   ┆ [2021-12- │\n",
       "│        ┆ 00:00:03   ┆            ┆            ┆ 00:01:25   ┆            ┆            ┆ 16        │\n",
       "│        ┆            ┆            ┆            ┆            ┆            ┆            ┆ 00:00:03, │\n",
       "│        ┆            ┆            ┆            ┆            ┆            ┆            ┆ 2021-12-1 │\n",
       "│        ┆            ┆            ┆            ┆            ┆            ┆            ┆ 6…        │\n",
       "│ 2      ┆ 2021-12-16 ┆ 27         ┆ 37736275   ┆ 2021-12-16 ┆ 27         ┆ 11.181119  ┆ [2021-12- │\n",
       "│        ┆ 00:00:04   ┆            ┆            ┆ 00:00:31   ┆            ┆            ┆ 16        │\n",
       "│        ┆            ┆            ┆            ┆            ┆            ┆            ┆ 00:00:04, │\n",
       "│        ┆            ┆            ┆            ┆            ┆            ┆            ┆ 2021-12-1 │\n",
       "│        ┆            ┆            ┆            ┆            ┆            ┆            ┆ 6…        │\n",
       "│ 3      ┆ 2021-12-16 ┆ 37         ┆ 94180945   ┆ 2021-12-16 ┆ 37         ┆ 20.363448  ┆ [2021-12- │\n",
       "│        ┆ 00:00:05   ┆            ┆            ┆ 00:00:42   ┆            ┆            ┆ 16        │\n",
       "│        ┆            ┆            ┆            ┆            ┆            ┆            ┆ 00:00:05, │\n",
       "│        ┆            ┆            ┆            ┆            ┆            ┆            ┆ 2021-12-1 │\n",
       "│        ┆            ┆            ┆            ┆            ┆            ┆            ┆ 6…        │\n",
       "│ 4      ┆ 2021-12-16 ┆ 31         ┆ 93165930   ┆ 2021-12-16 ┆ 31         ┆ 24.042821  ┆ [2021-12- │\n",
       "│        ┆ 00:00:06   ┆            ┆            ┆ 00:00:37   ┆            ┆            ┆ 16        │\n",
       "│        ┆            ┆            ┆            ┆            ┆            ┆            ┆ 00:00:06, │\n",
       "│        ┆            ┆            ┆            ┆            ┆            ┆            ┆ 2021-12-1 │\n",
       "│        ┆            ┆            ┆            ┆            ┆            ┆            ┆ 6…        │\n",
       "└────────┴────────────┴────────────┴────────────┴────────────┴────────────┴────────────┴───────────┘"
      ]
     },
     "execution_count": 4,
     "metadata": {},
     "output_type": "execute_result"
    }
   ],
   "source": [
    "(\n",
    "    df.lazy()\n",
    "    .with_row_count() # index rows to keep unique row integrity between explosion and grouping\n",
    "    .with_columns([\n",
    "        # Generate values in between [start, end] timestamps, by 1s\n",
    "            pl.date_range(\n",
    "                start=pl.col(\"start\"),\n",
    "                end=pl.col(\"end\"),\n",
    "                interval=\"1s\",\n",
    "                eager=False\n",
    "            ).alias(\"duration_dt\")\n",
    "    ])\n",
    "    .head()\n",
    "    .collect()\n",
    ")"
   ]
  },
  {
   "attachments": {},
   "cell_type": "markdown",
   "metadata": {},
   "source": [
    "### Explode Time Bins for Metrics Generation\n",
    "\n",
    "You are now seeing *1 to many* records of each `row_nr`, per the number of overlaps with the time bin, `duration_dt`"
   ]
  },
  {
   "cell_type": "code",
   "execution_count": 5,
   "metadata": {},
   "outputs": [
    {
     "data": {
      "text/html": [
       "<div><style>\n",
       ".dataframe > thead > tr > th,\n",
       ".dataframe > tbody > tr > td {\n",
       "  text-align: right;\n",
       "}\n",
       "</style>\n",
       "<small>shape: (5, 8)</small><table border=\"1\" class=\"dataframe\"><thead><tr><th>row_nr</th><th>start</th><th>delta_start_end</th><th>FileSize_Bytes</th><th>end</th><th>duration_seconds</th><th>Mbps_avg</th><th>duration_dt</th></tr><tr><td>u32</td><td>datetime[μs]</td><td>i64</td><td>i64</td><td>datetime[μs]</td><td>i64</td><td>f64</td><td>datetime[μs]</td></tr></thead><tbody><tr><td>0</td><td>2021-12-16 00:00:02</td><td>2</td><td>82316359</td><td>2021-12-16 00:00:04</td><td>2</td><td>329.265436</td><td>2021-12-16 00:00:02</td></tr><tr><td>0</td><td>2021-12-16 00:00:02</td><td>2</td><td>82316359</td><td>2021-12-16 00:00:04</td><td>2</td><td>329.265436</td><td>2021-12-16 00:00:03</td></tr><tr><td>1</td><td>2021-12-16 00:00:03</td><td>82</td><td>41543953</td><td>2021-12-16 00:01:25</td><td>82</td><td>4.053069</td><td>2021-12-16 00:00:03</td></tr><tr><td>2</td><td>2021-12-16 00:00:04</td><td>27</td><td>37736275</td><td>2021-12-16 00:00:31</td><td>27</td><td>11.181119</td><td>2021-12-16 00:00:04</td></tr><tr><td>0</td><td>2021-12-16 00:00:02</td><td>2</td><td>82316359</td><td>2021-12-16 00:00:04</td><td>2</td><td>329.265436</td><td>2021-12-16 00:00:04</td></tr></tbody></table></div>"
      ],
      "text/plain": [
       "shape: (5, 8)\n",
       "┌────────┬────────────┬────────────┬────────────┬────────────┬────────────┬────────────┬───────────┐\n",
       "│ row_nr ┆ start      ┆ delta_star ┆ FileSize_B ┆ end        ┆ duration_s ┆ Mbps_avg   ┆ duration_ │\n",
       "│ ---    ┆ ---        ┆ t_end      ┆ ytes       ┆ ---        ┆ econds     ┆ ---        ┆ dt        │\n",
       "│ u32    ┆ datetime[μ ┆ ---        ┆ ---        ┆ datetime[μ ┆ ---        ┆ f64        ┆ ---       │\n",
       "│        ┆ s]         ┆ i64        ┆ i64        ┆ s]         ┆ i64        ┆            ┆ datetime[ │\n",
       "│        ┆            ┆            ┆            ┆            ┆            ┆            ┆ μs]       │\n",
       "╞════════╪════════════╪════════════╪════════════╪════════════╪════════════╪════════════╪═══════════╡\n",
       "│ 0      ┆ 2021-12-16 ┆ 2          ┆ 82316359   ┆ 2021-12-16 ┆ 2          ┆ 329.265436 ┆ 2021-12-1 │\n",
       "│        ┆ 00:00:02   ┆            ┆            ┆ 00:00:04   ┆            ┆            ┆ 6         │\n",
       "│        ┆            ┆            ┆            ┆            ┆            ┆            ┆ 00:00:02  │\n",
       "│ 0      ┆ 2021-12-16 ┆ 2          ┆ 82316359   ┆ 2021-12-16 ┆ 2          ┆ 329.265436 ┆ 2021-12-1 │\n",
       "│        ┆ 00:00:02   ┆            ┆            ┆ 00:00:04   ┆            ┆            ┆ 6         │\n",
       "│        ┆            ┆            ┆            ┆            ┆            ┆            ┆ 00:00:03  │\n",
       "│ 1      ┆ 2021-12-16 ┆ 82         ┆ 41543953   ┆ 2021-12-16 ┆ 82         ┆ 4.053069   ┆ 2021-12-1 │\n",
       "│        ┆ 00:00:03   ┆            ┆            ┆ 00:01:25   ┆            ┆            ┆ 6         │\n",
       "│        ┆            ┆            ┆            ┆            ┆            ┆            ┆ 00:00:03  │\n",
       "│ 2      ┆ 2021-12-16 ┆ 27         ┆ 37736275   ┆ 2021-12-16 ┆ 27         ┆ 11.181119  ┆ 2021-12-1 │\n",
       "│        ┆ 00:00:04   ┆            ┆            ┆ 00:00:31   ┆            ┆            ┆ 6         │\n",
       "│        ┆            ┆            ┆            ┆            ┆            ┆            ┆ 00:00:04  │\n",
       "│ 0      ┆ 2021-12-16 ┆ 2          ┆ 82316359   ┆ 2021-12-16 ┆ 2          ┆ 329.265436 ┆ 2021-12-1 │\n",
       "│        ┆ 00:00:02   ┆            ┆            ┆ 00:00:04   ┆            ┆            ┆ 6         │\n",
       "│        ┆            ┆            ┆            ┆            ┆            ┆            ┆ 00:00:04  │\n",
       "└────────┴────────────┴────────────┴────────────┴────────────┴────────────┴────────────┴───────────┘"
      ]
     },
     "execution_count": 5,
     "metadata": {},
     "output_type": "execute_result"
    }
   ],
   "source": [
    "(\n",
    "    df.lazy()\n",
    "    .with_row_count() # index rows to keep unique row integrity between explosion and grouping\n",
    "    .with_columns([\n",
    "        # Generate values in between [start, end] timestamps, by 1s\n",
    "            pl.date_range(\n",
    "                start=pl.col(\"start\"),\n",
    "                end=pl.col(\"end\"),\n",
    "                interval=\"1s\",\n",
    "                eager=False\n",
    "            ).alias(\"duration_dt\")\n",
    "    ])\n",
    "    .explode([\"duration_dt\"]) # Explode the list of date (time) range values into individual records\n",
    "    .sort(\"duration_dt\")\n",
    "    .head()\n",
    "    .collect()\n",
    ")"
   ]
  },
  {
   "attachments": {},
   "cell_type": "markdown",
   "metadata": {},
   "source": [
    "## Metrics Generation\n",
    "\n",
    "Now we can either:\n",
    " 1. Calculate the total # of **concurrent transactions** and ~ cumulative (average) **bandwidth**\n",
    " 1. Calculate the # of ***other*** transactions occuring during a transaction interval\n",
    "\n",
    " We will start with the first.\n",
    "\n",
    " ### *Total* Concurrent Transactions & Cumulative Bandwidth"
   ]
  },
  {
   "cell_type": "code",
   "execution_count": 6,
   "metadata": {},
   "outputs": [
    {
     "data": {
      "text/html": [
       "<div><style>\n",
       ".dataframe > thead > tr > th,\n",
       ".dataframe > tbody > tr > td {\n",
       "  text-align: right;\n",
       "}\n",
       "</style>\n",
       "<small>shape: (5, 10)</small><table border=\"1\" class=\"dataframe\"><thead><tr><th>duration_dt</th><th>num_concurrent_transaction</th><th>count</th><th>cum_Mbps</th><th>duration_seconds_min</th><th>duration_seconds_mean</th><th>duration_seconds_p50</th><th>duration_seconds_p75</th><th>duration_seconds_p95</th><th>duration_seconds_max</th></tr><tr><td>datetime[μs]</td><td>u32</td><td>u32</td><td>f64</td><td>f64</td><td>f64</td><td>f64</td><td>f64</td><td>f64</td><td>f64</td></tr></thead><tbody><tr><td>2021-12-16 00:00:02</td><td>1</td><td>1</td><td>329.265436</td><td>2.0</td><td>2.0</td><td>2.0</td><td>2.0</td><td>2.0</td><td>2.0</td></tr><tr><td>2021-12-16 00:00:03</td><td>2</td><td>2</td><td>333.318505</td><td>2.0</td><td>42.0</td><td>82.0</td><td>82.0</td><td>82.0</td><td>82.0</td></tr><tr><td>2021-12-16 00:00:04</td><td>3</td><td>3</td><td>344.499623</td><td>2.0</td><td>37.0</td><td>27.0</td><td>82.0</td><td>82.0</td><td>82.0</td></tr><tr><td>2021-12-16 00:00:05</td><td>3</td><td>3</td><td>35.597635</td><td>27.0</td><td>48.666667</td><td>37.0</td><td>82.0</td><td>82.0</td><td>82.0</td></tr><tr><td>2021-12-16 00:00:06</td><td>4</td><td>4</td><td>59.640455</td><td>27.0</td><td>44.25</td><td>37.0</td><td>82.0</td><td>82.0</td><td>82.0</td></tr></tbody></table></div>"
      ],
      "text/plain": [
       "shape: (5, 10)\n",
       "┌───────────┬────────────┬───────┬─────────┬───┬────────────┬────────────┬────────────┬────────────┐\n",
       "│ duration_ ┆ num_concur ┆ count ┆ cum_Mbp ┆ … ┆ duration_s ┆ duration_s ┆ duration_s ┆ duration_s │\n",
       "│ dt        ┆ rent_trans ┆ ---   ┆ s       ┆   ┆ econds_p50 ┆ econds_p75 ┆ econds_p95 ┆ econds_max │\n",
       "│ ---       ┆ action     ┆ u32   ┆ ---     ┆   ┆ ---        ┆ ---        ┆ ---        ┆ ---        │\n",
       "│ datetime[ ┆ ---        ┆       ┆ f64     ┆   ┆ f64        ┆ f64        ┆ f64        ┆ f64        │\n",
       "│ μs]       ┆ u32        ┆       ┆         ┆   ┆            ┆            ┆            ┆            │\n",
       "╞═══════════╪════════════╪═══════╪═════════╪═══╪════════════╪════════════╪════════════╪════════════╡\n",
       "│ 2021-12-1 ┆ 1          ┆ 1     ┆ 329.265 ┆ … ┆ 2.0        ┆ 2.0        ┆ 2.0        ┆ 2.0        │\n",
       "│ 6         ┆            ┆       ┆ 436     ┆   ┆            ┆            ┆            ┆            │\n",
       "│ 00:00:02  ┆            ┆       ┆         ┆   ┆            ┆            ┆            ┆            │\n",
       "│ 2021-12-1 ┆ 2          ┆ 2     ┆ 333.318 ┆ … ┆ 82.0       ┆ 82.0       ┆ 82.0       ┆ 82.0       │\n",
       "│ 6         ┆            ┆       ┆ 505     ┆   ┆            ┆            ┆            ┆            │\n",
       "│ 00:00:03  ┆            ┆       ┆         ┆   ┆            ┆            ┆            ┆            │\n",
       "│ 2021-12-1 ┆ 3          ┆ 3     ┆ 344.499 ┆ … ┆ 27.0       ┆ 82.0       ┆ 82.0       ┆ 82.0       │\n",
       "│ 6         ┆            ┆       ┆ 623     ┆   ┆            ┆            ┆            ┆            │\n",
       "│ 00:00:04  ┆            ┆       ┆         ┆   ┆            ┆            ┆            ┆            │\n",
       "│ 2021-12-1 ┆ 3          ┆ 3     ┆ 35.5976 ┆ … ┆ 37.0       ┆ 82.0       ┆ 82.0       ┆ 82.0       │\n",
       "│ 6         ┆            ┆       ┆ 35      ┆   ┆            ┆            ┆            ┆            │\n",
       "│ 00:00:05  ┆            ┆       ┆         ┆   ┆            ┆            ┆            ┆            │\n",
       "│ 2021-12-1 ┆ 4          ┆ 4     ┆ 59.6404 ┆ … ┆ 37.0       ┆ 82.0       ┆ 82.0       ┆ 82.0       │\n",
       "│ 6         ┆            ┆       ┆ 55      ┆   ┆            ┆            ┆            ┆            │\n",
       "│ 00:00:06  ┆            ┆       ┆         ┆   ┆            ┆            ┆            ┆            │\n",
       "└───────────┴────────────┴───────┴─────────┴───┴────────────┴────────────┴────────────┴────────────┘"
      ]
     },
     "execution_count": 6,
     "metadata": {},
     "output_type": "execute_result"
    }
   ],
   "source": [
    "def calc_total_concurrent(\n",
    "        df: pl.DataFrame, start_timestamp_col, end_timestamp_col, \n",
    "        avg_Mbps_col, delta_duration_col, bin_size = \"1s\", lazy_return = False\n",
    "):\n",
    "    df_lazy_temp = (\n",
    "        df.lazy()\n",
    "        .with_row_count() # index rows to keep unique row integrity between explosion and grouping\n",
    "        .with_columns([\n",
    "            # Generate values in between [start, end] timestamps, by 1s\n",
    "                pl.date_range(\n",
    "                    start=pl.col(start_timestamp_col),\n",
    "                    end=pl.col(end_timestamp_col),\n",
    "                    interval=bin_size,\n",
    "                    eager=False\n",
    "                ).alias(\"duration_dt\")\n",
    "        ])\n",
    "        .explode([\"duration_dt\"]) # Explode the list of date (time) range values into individual records\n",
    "        .sort(\"duration_dt\")\n",
    "        .groupby_dynamic(\n",
    "            # For every second, starting from the first value of duration_dt, group by 1 sec bins (duration)\n",
    "            \"duration_dt\", every = \"1s\", period = \"1s\",\n",
    "            closed = \"left\", truncate = True, start_by = \"datapoint\"\n",
    "        )\n",
    "        .agg([\n",
    "            pl.n_unique(\"row_nr\").alias(\"num_concurrent_transaction\"),\n",
    "            pl.count(), pl.col(avg_Mbps_col).sum().alias(\"cum_Mbps\"),\n",
    "            pl.col(delta_duration_col).min().cast(pl.Float64).suffix(\"_min\"),\n",
    "            pl.col(delta_duration_col).mean().cast(pl.Float64).suffix(\"_mean\"),\n",
    "            pl.col(delta_duration_col).quantile(.5).cast(pl.Float64).suffix(\"_p50\"),\n",
    "            pl.col(delta_duration_col).quantile(.75).cast(pl.Float64).suffix(\"_p75\"),\n",
    "            pl.col(delta_duration_col).quantile(.95).cast(pl.Float64).suffix(\"_p95\"),\n",
    "            pl.col(delta_duration_col).max().cast(pl.Float64).suffix(\"_max\")\n",
    "        ])\n",
    "    )\n",
    "    if lazy_return == True:\n",
    "        return(df_lazy_temp)\n",
    "    else:\n",
    "        return(df_lazy_temp.collect())\n",
    "\n",
    "df_total_conc = calc_total_concurrent(\n",
    "    df = df, start_timestamp_col = \"start\", end_timestamp_col = \"end\", \n",
    "    avg_Mbps_col = \"Mbps_avg\", bin_size = \"1s\", delta_duration_col = \"duration_seconds\"\n",
    ")\n",
    "\n",
    "df_total_conc.head()"
   ]
  },
  {
   "attachments": {},
   "cell_type": "markdown",
   "metadata": {},
   "source": [
    "### *Other* Concurrent Transactions"
   ]
  },
  {
   "cell_type": "code",
   "execution_count": 7,
   "metadata": {},
   "outputs": [
    {
     "data": {
      "text/html": [
       "<div><style>\n",
       ".dataframe > thead > tr > th,\n",
       ".dataframe > tbody > tr > td {\n",
       "  text-align: right;\n",
       "}\n",
       "</style>\n",
       "<small>shape: (5, 6)</small><table border=\"1\" class=\"dataframe\"><thead><tr><th>row_nr</th><th>duration_seconds</th><th>Mbps_avg</th><th>num_other_transactions</th><th>start</th><th>end</th></tr><tr><td>u32</td><td>i64</td><td>f64</td><td>u32</td><td>datetime[μs]</td><td>datetime[μs]</td></tr></thead><tbody><tr><td>0</td><td>2</td><td>329.265436</td><td>2</td><td>2021-12-16 00:00:02</td><td>2021-12-16 00:00:04</td></tr><tr><td>1</td><td>82</td><td>4.053069</td><td>51</td><td>2021-12-16 00:00:03</td><td>2021-12-16 00:01:25</td></tr><tr><td>2</td><td>27</td><td>11.181119</td><td>27</td><td>2021-12-16 00:00:04</td><td>2021-12-16 00:00:31</td></tr><tr><td>3</td><td>37</td><td>20.363448</td><td>32</td><td>2021-12-16 00:00:05</td><td>2021-12-16 00:00:42</td></tr><tr><td>4</td><td>31</td><td>24.042821</td><td>28</td><td>2021-12-16 00:00:06</td><td>2021-12-16 00:00:37</td></tr></tbody></table></div>"
      ],
      "text/plain": [
       "shape: (5, 6)\n",
       "┌────────┬──────────────────┬────────────┬────────────────────────┬──────────────┬──────────────┐\n",
       "│ row_nr ┆ duration_seconds ┆ Mbps_avg   ┆ num_other_transactions ┆ start        ┆ end          │\n",
       "│ ---    ┆ ---              ┆ ---        ┆ ---                    ┆ ---          ┆ ---          │\n",
       "│ u32    ┆ i64              ┆ f64        ┆ u32                    ┆ datetime[μs] ┆ datetime[μs] │\n",
       "╞════════╪══════════════════╪════════════╪════════════════════════╪══════════════╪══════════════╡\n",
       "│ 0      ┆ 2                ┆ 329.265436 ┆ 2                      ┆ 2021-12-16   ┆ 2021-12-16   │\n",
       "│        ┆                  ┆            ┆                        ┆ 00:00:02     ┆ 00:00:04     │\n",
       "│ 1      ┆ 82               ┆ 4.053069   ┆ 51                     ┆ 2021-12-16   ┆ 2021-12-16   │\n",
       "│        ┆                  ┆            ┆                        ┆ 00:00:03     ┆ 00:01:25     │\n",
       "│ 2      ┆ 27               ┆ 11.181119  ┆ 27                     ┆ 2021-12-16   ┆ 2021-12-16   │\n",
       "│        ┆                  ┆            ┆                        ┆ 00:00:04     ┆ 00:00:31     │\n",
       "│ 3      ┆ 37               ┆ 20.363448  ┆ 32                     ┆ 2021-12-16   ┆ 2021-12-16   │\n",
       "│        ┆                  ┆            ┆                        ┆ 00:00:05     ┆ 00:00:42     │\n",
       "│ 4      ┆ 31               ┆ 24.042821  ┆ 28                     ┆ 2021-12-16   ┆ 2021-12-16   │\n",
       "│        ┆                  ┆            ┆                        ┆ 00:00:06     ┆ 00:00:37     │\n",
       "└────────┴──────────────────┴────────────┴────────────────────────┴──────────────┴──────────────┘"
      ]
     },
     "execution_count": 7,
     "metadata": {},
     "output_type": "execute_result"
    }
   ],
   "source": [
    "def calc_other_concurrent(\n",
    "        df: pl.DataFrame, start_timestamp_col, end_timestamp_col, \n",
    "        avg_Mbps_col, delta_duration_col, bin_size = \"1s\"\n",
    "):\n",
    "    return(\n",
    "        df.lazy()\n",
    "        .with_row_count()\n",
    "        .with_columns([\n",
    "            # Generate values in between [start, end] timestamps, by 1s\n",
    "                pl.date_range(\n",
    "                    start=pl.col(start_timestamp_col),\n",
    "                    end=pl.col(end_timestamp_col),\n",
    "                    interval=bin_size,\n",
    "                    eager=False\n",
    "                ).alias(\"duration_dt\")\n",
    "        ])\n",
    "        .explode([\"duration_dt\"]) # Explode the list of date (time) range values into individual records\n",
    "        .sort(\"duration_dt\")\n",
    "        .join(\n",
    "            calc_total_concurrent(\n",
    "                df = df, start_timestamp_col = start_timestamp_col, end_timestamp_col = end_timestamp_col, \n",
    "                delta_duration_col = delta_duration_col,\n",
    "                avg_Mbps_col = avg_Mbps_col, bin_size = bin_size, lazy_return = True\n",
    "            ), on = \"duration_dt\", how = \"left\"\n",
    "        )\n",
    "        .groupby([\"row_nr\"])\n",
    "        .agg([\n",
    "            pl.col(delta_duration_col).first(), pl.col(avg_Mbps_col).first(),\n",
    "            (pl.col(\"num_concurrent_transaction\").max() - 1).alias(\"num_other_transactions\"),\n",
    "            pl.col(start_timestamp_col).min(), pl.col(end_timestamp_col).max()\n",
    "        ])\n",
    "        .sort([\"row_nr\"])\n",
    "        .head()\n",
    "        .collect()\n",
    "    )\n",
    "\n",
    "calc_other_concurrent(\n",
    "    df = df, start_timestamp_col = \"start\", end_timestamp_col = \"end\", \n",
    "    delta_duration_col = \"duration_seconds\",\n",
    "    avg_Mbps_col = \"Mbps_avg\", bin_size = \"1s\"\n",
    ").head()"
   ]
  }
 ],
 "metadata": {
  "kernelspec": {
   "display_name": "ds_env",
   "language": "python",
   "name": "python3"
  },
  "language_info": {
   "codemirror_mode": {
    "name": "ipython",
    "version": 3
   },
   "file_extension": ".py",
   "mimetype": "text/x-python",
   "name": "python",
   "nbconvert_exporter": "python",
   "pygments_lexer": "ipython3",
   "version": "3.11.3"
  },
  "orig_nbformat": 4
 },
 "nbformat": 4,
 "nbformat_minor": 2
}
